{
 "cells": [
  {
   "cell_type": "markdown",
   "metadata": {},
   "source": [
    "# LangChain Agent with AWS Bedrock and MCP Servers Demo\n",
    "\n",
    "This notebook demonstrates a LangChain agent that uses AWS Bedrock for LLM capabilities and integrates with MCP (Model Context Protocol) servers for external tool functionality."
   ]
  },
  {
   "cell_type": "code",
   "execution_count": 1,
   "metadata": {},
   "outputs": [
    {
     "name": "stdout",
     "output_type": "stream",
     "text": [
      "Requirement already satisfied: langchain in ./.venv/lib/python3.13/site-packages (0.3.27)\n",
      "Requirement already satisfied: langchain-aws in ./.venv/lib/python3.13/site-packages (0.2.30)\n",
      "Requirement already satisfied: langchain-community in ./.venv/lib/python3.13/site-packages (0.3.27)\n",
      "Requirement already satisfied: boto3 in ./.venv/lib/python3.13/site-packages (1.40.0)\n",
      "Requirement already satisfied: python-dotenv in ./.venv/lib/python3.13/site-packages (1.1.1)\n",
      "Requirement already satisfied: requests in ./.venv/lib/python3.13/site-packages (2.32.4)\n",
      "Requirement already satisfied: langchain-core<1.0.0,>=0.3.72 in ./.venv/lib/python3.13/site-packages (from langchain) (0.3.72)\n",
      "Requirement already satisfied: langchain-text-splitters<1.0.0,>=0.3.9 in ./.venv/lib/python3.13/site-packages (from langchain) (0.3.9)\n",
      "Requirement already satisfied: langsmith>=0.1.17 in ./.venv/lib/python3.13/site-packages (from langchain) (0.4.9)\n",
      "Requirement already satisfied: pydantic<3.0.0,>=2.7.4 in ./.venv/lib/python3.13/site-packages (from langchain) (2.11.7)\n",
      "Requirement already satisfied: SQLAlchemy<3,>=1.4 in ./.venv/lib/python3.13/site-packages (from langchain) (2.0.42)\n",
      "Requirement already satisfied: PyYAML>=5.3 in ./.venv/lib/python3.13/site-packages (from langchain) (6.0.2)\n",
      "Requirement already satisfied: charset_normalizer<4,>=2 in ./.venv/lib/python3.13/site-packages (from requests) (3.4.2)\n",
      "Requirement already satisfied: idna<4,>=2.5 in ./.venv/lib/python3.13/site-packages (from requests) (3.10)\n",
      "Requirement already satisfied: urllib3<3,>=1.21.1 in ./.venv/lib/python3.13/site-packages (from requests) (2.5.0)\n",
      "Requirement already satisfied: certifi>=2017.4.17 in ./.venv/lib/python3.13/site-packages (from requests) (2025.7.14)\n",
      "Requirement already satisfied: tenacity!=8.4.0,<10.0.0,>=8.1.0 in ./.venv/lib/python3.13/site-packages (from langchain-core<1.0.0,>=0.3.72->langchain) (9.1.2)\n",
      "Requirement already satisfied: jsonpatch<2.0,>=1.33 in ./.venv/lib/python3.13/site-packages (from langchain-core<1.0.0,>=0.3.72->langchain) (1.33)\n",
      "Requirement already satisfied: typing-extensions>=4.7 in ./.venv/lib/python3.13/site-packages (from langchain-core<1.0.0,>=0.3.72->langchain) (4.14.1)\n",
      "Requirement already satisfied: packaging>=23.2 in ./.venv/lib/python3.13/site-packages (from langchain-core<1.0.0,>=0.3.72->langchain) (25.0)\n",
      "Requirement already satisfied: jsonpointer>=1.9 in ./.venv/lib/python3.13/site-packages (from jsonpatch<2.0,>=1.33->langchain-core<1.0.0,>=0.3.72->langchain) (3.0.0)\n",
      "Requirement already satisfied: annotated-types>=0.6.0 in ./.venv/lib/python3.13/site-packages (from pydantic<3.0.0,>=2.7.4->langchain) (0.7.0)\n",
      "Requirement already satisfied: pydantic-core==2.33.2 in ./.venv/lib/python3.13/site-packages (from pydantic<3.0.0,>=2.7.4->langchain) (2.33.2)\n",
      "Requirement already satisfied: typing-inspection>=0.4.0 in ./.venv/lib/python3.13/site-packages (from pydantic<3.0.0,>=2.7.4->langchain) (0.4.1)\n",
      "Requirement already satisfied: numpy<3,>=1.26.0 in ./.venv/lib/python3.13/site-packages (from langchain-aws) (2.3.2)\n",
      "Requirement already satisfied: aiohttp<4.0.0,>=3.8.3 in ./.venv/lib/python3.13/site-packages (from langchain-community) (3.12.15)\n",
      "Requirement already satisfied: dataclasses-json<0.7,>=0.5.7 in ./.venv/lib/python3.13/site-packages (from langchain-community) (0.6.7)\n",
      "Requirement already satisfied: pydantic-settings<3.0.0,>=2.4.0 in ./.venv/lib/python3.13/site-packages (from langchain-community) (2.10.1)\n",
      "Requirement already satisfied: httpx-sse<1.0.0,>=0.4.0 in ./.venv/lib/python3.13/site-packages (from langchain-community) (0.4.1)\n",
      "Requirement already satisfied: aiohappyeyeballs>=2.5.0 in ./.venv/lib/python3.13/site-packages (from aiohttp<4.0.0,>=3.8.3->langchain-community) (2.6.1)\n",
      "Requirement already satisfied: aiosignal>=1.4.0 in ./.venv/lib/python3.13/site-packages (from aiohttp<4.0.0,>=3.8.3->langchain-community) (1.4.0)\n",
      "Requirement already satisfied: attrs>=17.3.0 in ./.venv/lib/python3.13/site-packages (from aiohttp<4.0.0,>=3.8.3->langchain-community) (25.3.0)\n",
      "Requirement already satisfied: frozenlist>=1.1.1 in ./.venv/lib/python3.13/site-packages (from aiohttp<4.0.0,>=3.8.3->langchain-community) (1.7.0)\n",
      "Requirement already satisfied: multidict<7.0,>=4.5 in ./.venv/lib/python3.13/site-packages (from aiohttp<4.0.0,>=3.8.3->langchain-community) (6.6.3)\n",
      "Requirement already satisfied: propcache>=0.2.0 in ./.venv/lib/python3.13/site-packages (from aiohttp<4.0.0,>=3.8.3->langchain-community) (0.3.2)\n",
      "Requirement already satisfied: yarl<2.0,>=1.17.0 in ./.venv/lib/python3.13/site-packages (from aiohttp<4.0.0,>=3.8.3->langchain-community) (1.20.1)\n",
      "Requirement already satisfied: marshmallow<4.0.0,>=3.18.0 in ./.venv/lib/python3.13/site-packages (from dataclasses-json<0.7,>=0.5.7->langchain-community) (3.26.1)\n",
      "Requirement already satisfied: typing-inspect<1,>=0.4.0 in ./.venv/lib/python3.13/site-packages (from dataclasses-json<0.7,>=0.5.7->langchain-community) (0.9.0)\n",
      "Requirement already satisfied: mypy-extensions>=0.3.0 in ./.venv/lib/python3.13/site-packages (from typing-inspect<1,>=0.4.0->dataclasses-json<0.7,>=0.5.7->langchain-community) (1.1.0)\n",
      "Requirement already satisfied: botocore<1.41.0,>=1.40.0 in ./.venv/lib/python3.13/site-packages (from boto3) (1.40.0)\n",
      "Requirement already satisfied: jmespath<2.0.0,>=0.7.1 in ./.venv/lib/python3.13/site-packages (from boto3) (1.0.1)\n",
      "Requirement already satisfied: s3transfer<0.14.0,>=0.13.0 in ./.venv/lib/python3.13/site-packages (from boto3) (0.13.1)\n",
      "Requirement already satisfied: python-dateutil<3.0.0,>=2.1 in ./.venv/lib/python3.13/site-packages (from botocore<1.41.0,>=1.40.0->boto3) (2.9.0.post0)\n",
      "Requirement already satisfied: six>=1.5 in ./.venv/lib/python3.13/site-packages (from python-dateutil<3.0.0,>=2.1->botocore<1.41.0,>=1.40.0->boto3) (1.17.0)\n",
      "Requirement already satisfied: httpx<1,>=0.23.0 in ./.venv/lib/python3.13/site-packages (from langsmith>=0.1.17->langchain) (0.28.1)\n",
      "Requirement already satisfied: orjson<4.0.0,>=3.9.14 in ./.venv/lib/python3.13/site-packages (from langsmith>=0.1.17->langchain) (3.11.1)\n",
      "Requirement already satisfied: requests-toolbelt<2.0.0,>=1.0.0 in ./.venv/lib/python3.13/site-packages (from langsmith>=0.1.17->langchain) (1.0.0)\n",
      "Requirement already satisfied: zstandard<0.24.0,>=0.23.0 in ./.venv/lib/python3.13/site-packages (from langsmith>=0.1.17->langchain) (0.23.0)\n",
      "Requirement already satisfied: anyio in ./.venv/lib/python3.13/site-packages (from httpx<1,>=0.23.0->langsmith>=0.1.17->langchain) (4.9.0)\n",
      "Requirement already satisfied: httpcore==1.* in ./.venv/lib/python3.13/site-packages (from httpx<1,>=0.23.0->langsmith>=0.1.17->langchain) (1.0.9)\n",
      "Requirement already satisfied: h11>=0.16 in ./.venv/lib/python3.13/site-packages (from httpcore==1.*->httpx<1,>=0.23.0->langsmith>=0.1.17->langchain) (0.16.0)\n",
      "Requirement already satisfied: sniffio>=1.1 in ./.venv/lib/python3.13/site-packages (from anyio->httpx<1,>=0.23.0->langsmith>=0.1.17->langchain) (1.3.1)\n",
      "Note: you may need to restart the kernel to use updated packages.\n"
     ]
    }
   ],
   "source": [
    "# Install required packages\n",
    "%pip install langchain langchain-aws langchain-community boto3 python-dotenv requests"
   ]
  },
  {
   "cell_type": "code",
   "execution_count": 2,
   "metadata": {},
   "outputs": [
    {
     "name": "stdout",
     "output_type": "stream",
     "text": [
      "Packages imported successfully!\n"
     ]
    }
   ],
   "source": [
    "import os\n",
    "import boto3\n",
    "import requests\n",
    "from dotenv import load_dotenv\n",
    "from langchain_aws import ChatBedrock\n",
    "from langchain.agents import create_react_agent, AgentExecutor\n",
    "from langchain.tools import Tool\n",
    "from langchain.prompts import PromptTemplate\n",
    "from langchain_core.messages import HumanMessage\n",
    "\n",
    "# Load environment variables\n",
    "load_dotenv()\n",
    "\n",
    "print(\"Packages imported successfully!\")"
   ]
  },
  {
   "cell_type": "code",
   "execution_count": 3,
   "metadata": {},
   "outputs": [
    {
     "name": "stdout",
     "output_type": "stream",
     "text": [
      "LangSmith tracing enabled: true\n",
      "Project: mcp-agent-demo\n"
     ]
    }
   ],
   "source": [
    "# Set up LangSmith tracing (optional)\n",
    "os.environ[\"LANGCHAIN_TRACING_V2\"] = \"true\"\n",
    "os.environ[\"LANGCHAIN_API_KEY\"] = os.getenv(\"LANGCHAIN_API_KEY\", \"\")\n",
    "os.environ[\"LANGCHAIN_PROJECT\"] = os.getenv(\"LANGCHAIN_PROJECT\", \"mcp-agent-demo\")\n",
    "\n",
    "print(f\"LangSmith tracing enabled: {os.getenv('LANGCHAIN_TRACING_V2')}\")\n",
    "print(f\"Project: {os.getenv('LANGCHAIN_PROJECT')}\")"
   ]
  },
  {
   "cell_type": "code",
   "execution_count": 4,
   "metadata": {},
   "outputs": [
    {
     "name": "stdout",
     "output_type": "stream",
     "text": [
      "Bedrock LLM initialized successfully!\n"
     ]
    },
    {
     "name": "stderr",
     "output_type": "stream",
     "text": [
      "/Users/parampatel/Desktop/cursor_demo/agentMCPDemo/.venv/lib/python3.13/site-packages/langsmith/client.py:272: LangSmithMissingAPIKeyWarning: API key must be provided when using hosted LangSmith API\n",
      "  warnings.warn(\n",
      "Failed to multipart ingest runs: langsmith.utils.LangSmithAuthError: Authentication failed for https://api.smith.langchain.com/runs/multipart. HTTPError('401 Client Error: Unauthorized for url: https://api.smith.langchain.com/runs/multipart', '{\"error\":\"Unauthorized\"}\\n')trace=c47c9a1e-4d0b-478d-a290-43e43b8ab711,id=c47c9a1e-4d0b-478d-a290-43e43b8ab711\n"
     ]
    },
    {
     "name": "stdout",
     "output_type": "stream",
     "text": [
      "LLM Test Response: Yes, I am working and ready to assist you. How can I help you today?\n"
     ]
    },
    {
     "name": "stderr",
     "output_type": "stream",
     "text": [
      "Failed to send compressed multipart ingest: langsmith.utils.LangSmithAuthError: Authentication failed for https://api.smith.langchain.com/runs/multipart. HTTPError('401 Client Error: Unauthorized for url: https://api.smith.langchain.com/runs/multipart', '{\"error\":\"Unauthorized\"}\\n')trace=c47c9a1e-4d0b-478d-a290-43e43b8ab711,id=c47c9a1e-4d0b-478d-a290-43e43b8ab711\n",
      "Failed to send compressed multipart ingest: langsmith.utils.LangSmithAuthError: Authentication failed for https://api.smith.langchain.com/runs/multipart. HTTPError('401 Client Error: Unauthorized for url: https://api.smith.langchain.com/runs/multipart', '{\"error\":\"Unauthorized\"}\\n')trace=390caad3-9281-4630-b513-4f8a2a4e37e4,id=390caad3-9281-4630-b513-4f8a2a4e37e4; trace=390caad3-9281-4630-b513-4f8a2a4e37e4,id=f6b034bf-79a7-413c-82cf-e8a791c28823; trace=390caad3-9281-4630-b513-4f8a2a4e37e4,id=094dcacd-241c-4769-acf6-a348f8b755bf; trace=390caad3-9281-4630-b513-4f8a2a4e37e4,id=0169d8b3-99cf-4d94-a6f2-355d93967f28; trace=390caad3-9281-4630-b513-4f8a2a4e37e4,id=667b483e-cf61-4cb4-90d1-13e8f90e9459; trace=390caad3-9281-4630-b513-4f8a2a4e37e4,id=667b483e-cf61-4cb4-90d1-13e8f90e9459; trace=390caad3-9281-4630-b513-4f8a2a4e37e4,id=0169d8b3-99cf-4d94-a6f2-355d93967f28; trace=390caad3-9281-4630-b513-4f8a2a4e37e4,id=094dcacd-241c-4769-acf6-a348f8b755bf; trace=390caad3-9281-4630-b513-4f8a2a4e37e4,id=91101b76-260d-4de6-9b3a-20dbb2122601; trace=390caad3-9281-4630-b513-4f8a2a4e37e4,id=91101b76-260d-4de6-9b3a-20dbb2122601; trace=390caad3-9281-4630-b513-4f8a2a4e37e4,id=a260484e-4209-4676-93f2-d1d81fb71091\n",
      "Failed to send compressed multipart ingest: langsmith.utils.LangSmithAuthError: Authentication failed for https://api.smith.langchain.com/runs/multipart. HTTPError('401 Client Error: Unauthorized for url: https://api.smith.langchain.com/runs/multipart', '{\"error\":\"Unauthorized\"}\\n')trace=390caad3-9281-4630-b513-4f8a2a4e37e4,id=a260484e-4209-4676-93f2-d1d81fb71091; trace=390caad3-9281-4630-b513-4f8a2a4e37e4,id=7003c9ce-5100-4f35-b573-962b0f98216d; trace=390caad3-9281-4630-b513-4f8a2a4e37e4,id=7003c9ce-5100-4f35-b573-962b0f98216d; trace=390caad3-9281-4630-b513-4f8a2a4e37e4,id=f6b034bf-79a7-413c-82cf-e8a791c28823; trace=390caad3-9281-4630-b513-4f8a2a4e37e4,id=cd5394f7-b508-44bf-97af-eed278cd5881; trace=390caad3-9281-4630-b513-4f8a2a4e37e4,id=cd5394f7-b508-44bf-97af-eed278cd5881; trace=390caad3-9281-4630-b513-4f8a2a4e37e4,id=39ccbf7a-27d6-4868-b18b-e352041f1676; trace=390caad3-9281-4630-b513-4f8a2a4e37e4,id=128e6bac-8e93-4cef-91a3-e65b38bcf3a0; trace=390caad3-9281-4630-b513-4f8a2a4e37e4,id=0c34cf9a-dd5c-4faa-9bed-8854127b86a7; trace=390caad3-9281-4630-b513-4f8a2a4e37e4,id=20b8f9bf-7adc-46a4-890a-ce2e91fc63c9; trace=390caad3-9281-4630-b513-4f8a2a4e37e4,id=20b8f9bf-7adc-46a4-890a-ce2e91fc63c9; trace=390caad3-9281-4630-b513-4f8a2a4e37e4,id=0c34cf9a-dd5c-4faa-9bed-8854127b86a7; trace=390caad3-9281-4630-b513-4f8a2a4e37e4,id=128e6bac-8e93-4cef-91a3-e65b38bcf3a0; trace=390caad3-9281-4630-b513-4f8a2a4e37e4,id=56841ea7-fdac-4062-9e91-c9adc06aad10; trace=390caad3-9281-4630-b513-4f8a2a4e37e4,id=56841ea7-fdac-4062-9e91-c9adc06aad10; trace=390caad3-9281-4630-b513-4f8a2a4e37e4,id=6823ddbc-d3d1-4ccf-95d8-d5918f534eed\n",
      "Failed to send compressed multipart ingest: langsmith.utils.LangSmithAuthError: Authentication failed for https://api.smith.langchain.com/runs/multipart. HTTPError('401 Client Error: Unauthorized for url: https://api.smith.langchain.com/runs/multipart', '{\"error\":\"Unauthorized\"}\\n')trace=390caad3-9281-4630-b513-4f8a2a4e37e4,id=6823ddbc-d3d1-4ccf-95d8-d5918f534eed; trace=390caad3-9281-4630-b513-4f8a2a4e37e4,id=14fd06e2-01f5-4c37-b35a-c87854785734; trace=390caad3-9281-4630-b513-4f8a2a4e37e4,id=14fd06e2-01f5-4c37-b35a-c87854785734; trace=390caad3-9281-4630-b513-4f8a2a4e37e4,id=39ccbf7a-27d6-4868-b18b-e352041f1676; trace=390caad3-9281-4630-b513-4f8a2a4e37e4,id=db80c53d-ff46-4df2-a190-15038908a04b; trace=390caad3-9281-4630-b513-4f8a2a4e37e4,id=db80c53d-ff46-4df2-a190-15038908a04b; trace=390caad3-9281-4630-b513-4f8a2a4e37e4,id=1083bac2-1d83-445b-bdda-460ebb3d4c8e; trace=390caad3-9281-4630-b513-4f8a2a4e37e4,id=5483cb37-ed48-4cce-b970-31c05828f3c5; trace=390caad3-9281-4630-b513-4f8a2a4e37e4,id=2f73e2f0-8f05-41c1-b025-d71d643da7c3; trace=390caad3-9281-4630-b513-4f8a2a4e37e4,id=212ab766-b010-4f8a-bd67-5503fb8b919e; trace=390caad3-9281-4630-b513-4f8a2a4e37e4,id=212ab766-b010-4f8a-bd67-5503fb8b919e; trace=390caad3-9281-4630-b513-4f8a2a4e37e4,id=2f73e2f0-8f05-41c1-b025-d71d643da7c3; trace=390caad3-9281-4630-b513-4f8a2a4e37e4,id=5483cb37-ed48-4cce-b970-31c05828f3c5; trace=390caad3-9281-4630-b513-4f8a2a4e37e4,id=c7a41ca2-ff02-493f-8c5b-e5bff55389b8; trace=390caad3-9281-4630-b513-4f8a2a4e37e4,id=c7a41ca2-ff02-493f-8c5b-e5bff55389b8; trace=390caad3-9281-4630-b513-4f8a2a4e37e4,id=335807c1-cce7-4777-b4af-6cc34fdb0208\n",
      "Failed to send compressed multipart ingest: langsmith.utils.LangSmithAuthError: Authentication failed for https://api.smith.langchain.com/runs/multipart. HTTPError('401 Client Error: Unauthorized for url: https://api.smith.langchain.com/runs/multipart', '{\"error\":\"Unauthorized\"}\\n')trace=390caad3-9281-4630-b513-4f8a2a4e37e4,id=335807c1-cce7-4777-b4af-6cc34fdb0208; trace=390caad3-9281-4630-b513-4f8a2a4e37e4,id=76e9a300-bc41-41c3-81bf-d6790f186235; trace=390caad3-9281-4630-b513-4f8a2a4e37e4,id=76e9a300-bc41-41c3-81bf-d6790f186235; trace=390caad3-9281-4630-b513-4f8a2a4e37e4,id=1083bac2-1d83-445b-bdda-460ebb3d4c8e; trace=390caad3-9281-4630-b513-4f8a2a4e37e4,id=390caad3-9281-4630-b513-4f8a2a4e37e4; trace=f2c3b044-d3a3-442b-a0ac-256d28604b8d,id=f2c3b044-d3a3-442b-a0ac-256d28604b8d; trace=f2c3b044-d3a3-442b-a0ac-256d28604b8d,id=0bbfe136-ce37-4fe6-86c0-32515ca362f6; trace=f2c3b044-d3a3-442b-a0ac-256d28604b8d,id=7f7d84cf-d9bb-48fd-aa54-5a90005ad604; trace=f2c3b044-d3a3-442b-a0ac-256d28604b8d,id=4d4e22a2-3876-46de-a35c-b10e72db5108; trace=f2c3b044-d3a3-442b-a0ac-256d28604b8d,id=a2ef9569-211c-489e-85c4-5e53e0479a50; trace=f2c3b044-d3a3-442b-a0ac-256d28604b8d,id=a2ef9569-211c-489e-85c4-5e53e0479a50; trace=f2c3b044-d3a3-442b-a0ac-256d28604b8d,id=4d4e22a2-3876-46de-a35c-b10e72db5108; trace=f2c3b044-d3a3-442b-a0ac-256d28604b8d,id=7f7d84cf-d9bb-48fd-aa54-5a90005ad604; trace=f2c3b044-d3a3-442b-a0ac-256d28604b8d,id=78c336a3-52d4-4a9c-9fc8-8959bee9ce91; trace=f2c3b044-d3a3-442b-a0ac-256d28604b8d,id=78c336a3-52d4-4a9c-9fc8-8959bee9ce91; trace=f2c3b044-d3a3-442b-a0ac-256d28604b8d,id=6c159956-be72-400c-a4b5-3fd00713ee28\n",
      "Failed to send compressed multipart ingest: langsmith.utils.LangSmithAuthError: Authentication failed for https://api.smith.langchain.com/runs/multipart. HTTPError('401 Client Error: Unauthorized for url: https://api.smith.langchain.com/runs/multipart', '{\"error\":\"Unauthorized\"}\\n')trace=f2c3b044-d3a3-442b-a0ac-256d28604b8d,id=6c159956-be72-400c-a4b5-3fd00713ee28; trace=f2c3b044-d3a3-442b-a0ac-256d28604b8d,id=8b2cd128-2009-494c-b0b2-1dd300da44eb; trace=f2c3b044-d3a3-442b-a0ac-256d28604b8d,id=8b2cd128-2009-494c-b0b2-1dd300da44eb; trace=f2c3b044-d3a3-442b-a0ac-256d28604b8d,id=0bbfe136-ce37-4fe6-86c0-32515ca362f6; trace=f2c3b044-d3a3-442b-a0ac-256d28604b8d,id=4d1fa432-e584-4149-8b55-1b632e47ad48; trace=f2c3b044-d3a3-442b-a0ac-256d28604b8d,id=4d1fa432-e584-4149-8b55-1b632e47ad48; trace=f2c3b044-d3a3-442b-a0ac-256d28604b8d,id=ff43540b-93c3-4c22-a129-9573ac44b7f0; trace=f2c3b044-d3a3-442b-a0ac-256d28604b8d,id=fe25ce19-2465-4c00-b3f7-709259696140; trace=f2c3b044-d3a3-442b-a0ac-256d28604b8d,id=1c17406e-3b16-45eb-b8d1-7f34c9dd0c1c; trace=f2c3b044-d3a3-442b-a0ac-256d28604b8d,id=823f855c-8281-4d05-b9dc-5c59dc45383a; trace=f2c3b044-d3a3-442b-a0ac-256d28604b8d,id=823f855c-8281-4d05-b9dc-5c59dc45383a; trace=f2c3b044-d3a3-442b-a0ac-256d28604b8d,id=1c17406e-3b16-45eb-b8d1-7f34c9dd0c1c; trace=f2c3b044-d3a3-442b-a0ac-256d28604b8d,id=fe25ce19-2465-4c00-b3f7-709259696140; trace=f2c3b044-d3a3-442b-a0ac-256d28604b8d,id=81fd2e86-e724-466a-8688-4e4d7f792ded; trace=f2c3b044-d3a3-442b-a0ac-256d28604b8d,id=81fd2e86-e724-466a-8688-4e4d7f792ded; trace=f2c3b044-d3a3-442b-a0ac-256d28604b8d,id=2dddae0e-7ab2-45d2-a0f9-899e07ec76f4\n",
      "Failed to send compressed multipart ingest: langsmith.utils.LangSmithAuthError: Authentication failed for https://api.smith.langchain.com/runs/multipart. HTTPError('401 Client Error: Unauthorized for url: https://api.smith.langchain.com/runs/multipart', '{\"error\":\"Unauthorized\"}\\n')trace=f2c3b044-d3a3-442b-a0ac-256d28604b8d,id=2dddae0e-7ab2-45d2-a0f9-899e07ec76f4; trace=f2c3b044-d3a3-442b-a0ac-256d28604b8d,id=f0b2e775-4c41-4c50-8816-c4475f2aa78b; trace=f2c3b044-d3a3-442b-a0ac-256d28604b8d,id=f0b2e775-4c41-4c50-8816-c4475f2aa78b; trace=f2c3b044-d3a3-442b-a0ac-256d28604b8d,id=ff43540b-93c3-4c22-a129-9573ac44b7f0; trace=f2c3b044-d3a3-442b-a0ac-256d28604b8d,id=86c06dd5-0e10-4c00-a32f-585cc34abcfb; trace=f2c3b044-d3a3-442b-a0ac-256d28604b8d,id=86c06dd5-0e10-4c00-a32f-585cc34abcfb; trace=f2c3b044-d3a3-442b-a0ac-256d28604b8d,id=c04ad03b-7ff1-4fe7-98c2-997b5885fd02; trace=f2c3b044-d3a3-442b-a0ac-256d28604b8d,id=7181bca9-40cd-4b31-bb35-271f72b0c022; trace=f2c3b044-d3a3-442b-a0ac-256d28604b8d,id=4b9b9a5c-6659-453b-a269-5f707f54f231; trace=f2c3b044-d3a3-442b-a0ac-256d28604b8d,id=106fb9e7-d264-4033-9d9f-b32f5ae373fa; trace=f2c3b044-d3a3-442b-a0ac-256d28604b8d,id=106fb9e7-d264-4033-9d9f-b32f5ae373fa; trace=f2c3b044-d3a3-442b-a0ac-256d28604b8d,id=4b9b9a5c-6659-453b-a269-5f707f54f231; trace=f2c3b044-d3a3-442b-a0ac-256d28604b8d,id=7181bca9-40cd-4b31-bb35-271f72b0c022; trace=f2c3b044-d3a3-442b-a0ac-256d28604b8d,id=1f2af0c7-637d-4c40-8c08-e20a53ecb1c8; trace=f2c3b044-d3a3-442b-a0ac-256d28604b8d,id=1f2af0c7-637d-4c40-8c08-e20a53ecb1c8; trace=f2c3b044-d3a3-442b-a0ac-256d28604b8d,id=3404383b-6680-4993-a7b4-a6a7a6ab2cc0\n",
      "Failed to send compressed multipart ingest: langsmith.utils.LangSmithAuthError: Authentication failed for https://api.smith.langchain.com/runs/multipart. HTTPError('401 Client Error: Unauthorized for url: https://api.smith.langchain.com/runs/multipart', '{\"error\":\"Unauthorized\"}\\n')trace=f2c3b044-d3a3-442b-a0ac-256d28604b8d,id=3404383b-6680-4993-a7b4-a6a7a6ab2cc0; trace=f2c3b044-d3a3-442b-a0ac-256d28604b8d,id=6df46490-9935-44ed-9b12-ac4e164b067a; trace=f2c3b044-d3a3-442b-a0ac-256d28604b8d,id=6df46490-9935-44ed-9b12-ac4e164b067a; trace=f2c3b044-d3a3-442b-a0ac-256d28604b8d,id=c04ad03b-7ff1-4fe7-98c2-997b5885fd02; trace=f2c3b044-d3a3-442b-a0ac-256d28604b8d,id=f2c3b044-d3a3-442b-a0ac-256d28604b8d; trace=0230b73e-e6c2-4dba-9abd-b5b7f1e43121,id=0230b73e-e6c2-4dba-9abd-b5b7f1e43121; trace=0230b73e-e6c2-4dba-9abd-b5b7f1e43121,id=8fbc35b9-242b-4916-92d4-98e466b5d107; trace=0230b73e-e6c2-4dba-9abd-b5b7f1e43121,id=97e87cec-0965-4376-88db-541bcd9495dc; trace=0230b73e-e6c2-4dba-9abd-b5b7f1e43121,id=f8b75d56-3630-4403-852d-8158d495d773; trace=0230b73e-e6c2-4dba-9abd-b5b7f1e43121,id=c5116f79-6b2d-4eb3-9a6c-2b42c066c006; trace=0230b73e-e6c2-4dba-9abd-b5b7f1e43121,id=c5116f79-6b2d-4eb3-9a6c-2b42c066c006; trace=0230b73e-e6c2-4dba-9abd-b5b7f1e43121,id=f8b75d56-3630-4403-852d-8158d495d773; trace=0230b73e-e6c2-4dba-9abd-b5b7f1e43121,id=97e87cec-0965-4376-88db-541bcd9495dc; trace=0230b73e-e6c2-4dba-9abd-b5b7f1e43121,id=d94007bb-c744-413e-a0be-84d99240f362; trace=0230b73e-e6c2-4dba-9abd-b5b7f1e43121,id=d94007bb-c744-413e-a0be-84d99240f362; trace=0230b73e-e6c2-4dba-9abd-b5b7f1e43121,id=404fb8bd-d27e-4417-9bef-657e48f27483\n",
      "Failed to send compressed multipart ingest: langsmith.utils.LangSmithAuthError: Authentication failed for https://api.smith.langchain.com/runs/multipart. HTTPError('401 Client Error: Unauthorized for url: https://api.smith.langchain.com/runs/multipart', '{\"error\":\"Unauthorized\"}\\n')trace=0230b73e-e6c2-4dba-9abd-b5b7f1e43121,id=404fb8bd-d27e-4417-9bef-657e48f27483; trace=0230b73e-e6c2-4dba-9abd-b5b7f1e43121,id=2a52c94a-0975-4096-861d-5d67f5e41019; trace=0230b73e-e6c2-4dba-9abd-b5b7f1e43121,id=2a52c94a-0975-4096-861d-5d67f5e41019; trace=0230b73e-e6c2-4dba-9abd-b5b7f1e43121,id=8fbc35b9-242b-4916-92d4-98e466b5d107; trace=0230b73e-e6c2-4dba-9abd-b5b7f1e43121,id=af6b9f63-5a53-4b13-a548-333906b648e8; trace=0230b73e-e6c2-4dba-9abd-b5b7f1e43121,id=af6b9f63-5a53-4b13-a548-333906b648e8; trace=0230b73e-e6c2-4dba-9abd-b5b7f1e43121,id=c8837f3a-5821-47f0-83f3-77e77c9027a5; trace=0230b73e-e6c2-4dba-9abd-b5b7f1e43121,id=d8d8afe8-6ed9-4c5c-b192-e2a6f91cf724; trace=0230b73e-e6c2-4dba-9abd-b5b7f1e43121,id=a1b59082-6372-47cb-8daf-852329255ba8; trace=0230b73e-e6c2-4dba-9abd-b5b7f1e43121,id=95c28af9-7fdd-4cc8-90ff-64951de6872f; trace=0230b73e-e6c2-4dba-9abd-b5b7f1e43121,id=95c28af9-7fdd-4cc8-90ff-64951de6872f; trace=0230b73e-e6c2-4dba-9abd-b5b7f1e43121,id=a1b59082-6372-47cb-8daf-852329255ba8; trace=0230b73e-e6c2-4dba-9abd-b5b7f1e43121,id=d8d8afe8-6ed9-4c5c-b192-e2a6f91cf724; trace=0230b73e-e6c2-4dba-9abd-b5b7f1e43121,id=caad82e2-2e4f-4b72-9765-b7c6f6cbc269; trace=0230b73e-e6c2-4dba-9abd-b5b7f1e43121,id=caad82e2-2e4f-4b72-9765-b7c6f6cbc269; trace=0230b73e-e6c2-4dba-9abd-b5b7f1e43121,id=520e27e5-640d-4435-858e-b7094c602f7e\n",
      "Failed to send compressed multipart ingest: langsmith.utils.LangSmithAuthError: Authentication failed for https://api.smith.langchain.com/runs/multipart. HTTPError('401 Client Error: Unauthorized for url: https://api.smith.langchain.com/runs/multipart', '{\"error\":\"Unauthorized\"}\\n')trace=0230b73e-e6c2-4dba-9abd-b5b7f1e43121,id=520e27e5-640d-4435-858e-b7094c602f7e; trace=0230b73e-e6c2-4dba-9abd-b5b7f1e43121,id=f5fb63bd-076a-4c9e-81c5-fae38c162bfe; trace=0230b73e-e6c2-4dba-9abd-b5b7f1e43121,id=f5fb63bd-076a-4c9e-81c5-fae38c162bfe; trace=0230b73e-e6c2-4dba-9abd-b5b7f1e43121,id=c8837f3a-5821-47f0-83f3-77e77c9027a5; trace=0230b73e-e6c2-4dba-9abd-b5b7f1e43121,id=05649d06-2d16-4a84-b47f-0076f725bfd2; trace=0230b73e-e6c2-4dba-9abd-b5b7f1e43121,id=05649d06-2d16-4a84-b47f-0076f725bfd2; trace=0230b73e-e6c2-4dba-9abd-b5b7f1e43121,id=efeafe36-d6fc-45d0-bbfc-9f2aa05f12cb; trace=0230b73e-e6c2-4dba-9abd-b5b7f1e43121,id=22eb3c38-0a3a-4da6-93b7-bf7698c771e0; trace=0230b73e-e6c2-4dba-9abd-b5b7f1e43121,id=fbc90d6b-d535-4ca8-ba31-21f35379f7a4; trace=0230b73e-e6c2-4dba-9abd-b5b7f1e43121,id=bb541231-c510-4cbc-a7cf-4c4f119a991b; trace=0230b73e-e6c2-4dba-9abd-b5b7f1e43121,id=bb541231-c510-4cbc-a7cf-4c4f119a991b; trace=0230b73e-e6c2-4dba-9abd-b5b7f1e43121,id=fbc90d6b-d535-4ca8-ba31-21f35379f7a4; trace=0230b73e-e6c2-4dba-9abd-b5b7f1e43121,id=22eb3c38-0a3a-4da6-93b7-bf7698c771e0; trace=0230b73e-e6c2-4dba-9abd-b5b7f1e43121,id=73578c6b-8ecf-415c-86a6-f352d9c6256e; trace=0230b73e-e6c2-4dba-9abd-b5b7f1e43121,id=73578c6b-8ecf-415c-86a6-f352d9c6256e; trace=0230b73e-e6c2-4dba-9abd-b5b7f1e43121,id=ddf78943-d970-4104-be3e-bec89ce73c26\n",
      "Failed to send compressed multipart ingest: langsmith.utils.LangSmithAuthError: Authentication failed for https://api.smith.langchain.com/runs/multipart. HTTPError('401 Client Error: Unauthorized for url: https://api.smith.langchain.com/runs/multipart', '{\"error\":\"Unauthorized\"}\\n')trace=0230b73e-e6c2-4dba-9abd-b5b7f1e43121,id=ddf78943-d970-4104-be3e-bec89ce73c26; trace=0230b73e-e6c2-4dba-9abd-b5b7f1e43121,id=01d0cd39-98ae-4260-8dfb-7fe6402be855; trace=0230b73e-e6c2-4dba-9abd-b5b7f1e43121,id=01d0cd39-98ae-4260-8dfb-7fe6402be855; trace=0230b73e-e6c2-4dba-9abd-b5b7f1e43121,id=efeafe36-d6fc-45d0-bbfc-9f2aa05f12cb; trace=0230b73e-e6c2-4dba-9abd-b5b7f1e43121,id=0230b73e-e6c2-4dba-9abd-b5b7f1e43121\n"
     ]
    }
   ],
   "source": [
    "# Initialize AWS Bedrock LLM\n",
    "bedrock_llm = ChatBedrock(\n",
    "    model_id=\"anthropic.claude-3-sonnet-20240229-v1:0\",\n",
    "    region_name=os.getenv(\"AWS_REGION\", \"us-east-1\"),\n",
    "    model_kwargs={\n",
    "        \"max_tokens\": 1000,\n",
    "        \"temperature\": 0.1\n",
    "    }\n",
    ")\n",
    "\n",
    "print(\"Bedrock LLM initialized successfully!\")\n",
    "\n",
    "# Test the LLM\n",
    "test_response = bedrock_llm.invoke([HumanMessage(content=\"Hello! Can you confirm you're working?\")])\n",
    "print(f\"LLM Test Response: {test_response.content}\")"
   ]
  },
  {
   "cell_type": "code",
   "execution_count": 5,
   "metadata": {},
   "outputs": [
    {
     "name": "stdout",
     "output_type": "stream",
     "text": [
      "Calculator MCP Server: http://localhost:8001\n",
      "Weather MCP Server: http://localhost:8002\n"
     ]
    }
   ],
   "source": [
    "# Define MCP Server URLs\n",
    "CALCULATOR_URL = os.getenv(\"MCP_CALCULATOR_URL\", \"http://localhost:8001\")\n",
    "WEATHER_URL = os.getenv(\"MCP_WEATHER_URL\", \"http://localhost:8002\")\n",
    "\n",
    "print(f\"Calculator MCP Server: {CALCULATOR_URL}\")\n",
    "print(f\"Weather MCP Server: {WEATHER_URL}\")"
   ]
  },
  {
   "cell_type": "code",
   "execution_count": 6,
   "metadata": {},
   "outputs": [
    {
     "name": "stdout",
     "output_type": "stream",
     "text": [
      "Created 2 tools for the agent\n"
     ]
    }
   ],
   "source": [
    "# Define tools to interact with MCP servers\n",
    "import re\n",
    "\n",
    "def call_calculator(expression: str) -> str:\n",
    "    \"\"\"Call the calculator MCP server to evaluate a mathematical expression.\"\"\"\n",
    "    try:\n",
    "        expression = expression.strip()\n",
    "        \n",
    "        # Handle complex expressions like \"25 * 4 + 10\" by evaluating step by step\n",
    "        if \"+\" in expression and \"*\" in expression:\n",
    "            # Find multiplication first (order of operations)\n",
    "            mult_match = re.search(r'(\\d+(?:\\.\\d+)?)\\s*\\*\\s*(\\d+(?:\\.\\d+)?)', expression)\n",
    "            if mult_match:\n",
    "                # Calculate multiplication first\n",
    "                a, b = float(mult_match.group(1)), float(mult_match.group(2))\n",
    "                mult_response = requests.post(\n",
    "                    f\"{CALCULATOR_URL}/calculate\",\n",
    "                    json={\"operation\": \"multiply\", \"a\": a, \"b\": b},\n",
    "                    timeout=10\n",
    "                )\n",
    "                if mult_response.status_code == 200:\n",
    "                    mult_result = mult_response.json().get(\"result\")\n",
    "                    # Replace the multiplication part with the result\n",
    "                    remaining = expression.replace(mult_match.group(0), str(mult_result))\n",
    "                    \n",
    "                    # Now handle the addition\n",
    "                    add_match = re.match(r'(\\d+(?:\\.\\d+)?)\\s*\\+\\s*(\\d+(?:\\.\\d+)?)', remaining)\n",
    "                    if add_match:\n",
    "                        c, d = float(add_match.group(1)), float(add_match.group(2))\n",
    "                        add_response = requests.post(\n",
    "                            f\"{CALCULATOR_URL}/calculate\",\n",
    "                            json={\"operation\": \"add\", \"a\": c, \"b\": d},\n",
    "                            timeout=10\n",
    "                        )\n",
    "                        if add_response.status_code == 200:\n",
    "                            final_result = add_response.json().get(\"result\")\n",
    "                            return f\"{expression} = {final_result}\"\n",
    "        \n",
    "        # Handle basic two-operand expressions like \"25 * 4\"\n",
    "        match = re.match(r'(\\d+(?:\\.\\d+)?)\\s*([+\\-*/])\\s*(\\d+(?:\\.\\d+)?)', expression)\n",
    "        if match:\n",
    "            a, op, b = match.groups()\n",
    "            a, b = float(a), float(b)\n",
    "            \n",
    "            # Map operators to operation names\n",
    "            op_map = {'+': 'add', '-': 'subtract', '*': 'multiply', '/': 'divide'}\n",
    "            operation = op_map.get(op)\n",
    "            \n",
    "            if operation:\n",
    "                response = requests.post(\n",
    "                    f\"{CALCULATOR_URL}/calculate\",\n",
    "                    json={\"operation\": operation, \"a\": a, \"b\": b},\n",
    "                    timeout=10\n",
    "                )\n",
    "                if response.status_code == 200:\n",
    "                    result = response.json().get(\"result\")\n",
    "                    return f\"{expression} = {result}\"\n",
    "                else:\n",
    "                    return f\"Calculator server error: {response.status_code}\"\n",
    "        \n",
    "        return f\"Error: Cannot parse expression '{expression}'. Please use simple format like '25 * 4' or '25 * 4 + 10'\"\n",
    "        \n",
    "    except Exception as e:\n",
    "        return f\"Failed to connect to calculator server: {str(e)}\"\n",
    "\n",
    "def get_weather(location: str) -> str:\n",
    "    \"\"\"Get weather information for a given location from the weather MCP server.\"\"\"\n",
    "    try:\n",
    "        # Fixed: Use correct endpoint, POST method, and JSON body format\n",
    "        response = requests.post(\n",
    "            f\"{WEATHER_URL}/get_weather\",\n",
    "            json={\"city\": location},\n",
    "            timeout=10\n",
    "        )\n",
    "        if response.status_code == 200:\n",
    "            weather_data = response.json()\n",
    "            return f\"Weather in {weather_data.get('city', location)}: {weather_data.get('description', 'N/A')}, Temperature: {weather_data.get('temperature', 'N/A')}°C, Humidity: {weather_data.get('humidity', 'N/A')}%\"\n",
    "        else:\n",
    "            return f\"Weather server error: {response.status_code}\"\n",
    "    except Exception as e:\n",
    "        return f\"Failed to connect to weather server: {str(e)}\"\n",
    "\n",
    "# Create LangChain tools\n",
    "calculator_tool = Tool(\n",
    "    name=\"Calculator\",\n",
    "    func=call_calculator,\n",
    "    description=\"Use this tool to perform mathematical calculations. Input should be a mathematical expression as a string.\"\n",
    ")\n",
    "\n",
    "weather_tool = Tool(\n",
    "    name=\"Weather\",\n",
    "    func=get_weather,\n",
    "    description=\"Use this tool to get weather information for a location. Input should be a location name as a string.\"\n",
    ")\n",
    "\n",
    "tools = [calculator_tool, weather_tool]\n",
    "print(f\"Created {len(tools)} tools for the agent\")"
   ]
  },
  {
   "cell_type": "code",
   "execution_count": 7,
   "metadata": {},
   "outputs": [
    {
     "name": "stdout",
     "output_type": "stream",
     "text": [
      "Agent prompt template created\n"
     ]
    }
   ],
   "source": [
    "# Create the agent prompt template\n",
    "prompt_template = PromptTemplate.from_template(\n",
    "    \"\"\"\n",
    "You are a helpful AI assistant with access to external tools via MCP servers.\n",
    "\n",
    "You have access to the following tools:\n",
    "{tools}\n",
    "\n",
    "Use the following format:\n",
    "\n",
    "Question: the input question you must answer\n",
    "Thought: you should always think about what to do\n",
    "Action: the action to take, should be one of [{tool_names}]\n",
    "Action Input: the input to the action\n",
    "Observation: the result of the action\n",
    "... (this Thought/Action/Action Input/Observation can repeat N times)\n",
    "Thought: I now know the final answer\n",
    "Final Answer: the final answer to the original input question\n",
    "\n",
    "Begin!\n",
    "\n",
    "Question: {input}\n",
    "Thought: {agent_scratchpad}\n",
    "\"\"\"\n",
    ")\n",
    "\n",
    "print(\"Agent prompt template created\")"
   ]
  },
  {
   "cell_type": "code",
   "execution_count": 8,
   "metadata": {},
   "outputs": [
    {
     "name": "stdout",
     "output_type": "stream",
     "text": [
      "LangChain agent created and ready!\n"
     ]
    }
   ],
   "source": [
    "# Create and initialize the LangChain agent\n",
    "agent = create_react_agent(\n",
    "    llm=bedrock_llm,\n",
    "    tools=tools,\n",
    "    prompt=prompt_template\n",
    ")\n",
    "\n",
    "agent_executor = AgentExecutor(\n",
    "    agent=agent,\n",
    "    tools=tools,\n",
    "    verbose=True,\n",
    "    max_iterations=5,\n",
    "    handle_parsing_errors=True\n",
    ")\n",
    "\n",
    "print(\"LangChain agent created and ready!\")"
   ]
  },
  {
   "cell_type": "code",
   "execution_count": 9,
   "metadata": {},
   "outputs": [
    {
     "name": "stdout",
     "output_type": "stream",
     "text": [
      "=== Testing Calculator Tool ===\n",
      "\n",
      "\n",
      "\u001b[1m> Entering new AgentExecutor chain...\u001b[0m\n",
      "\u001b[32;1m\u001b[1;3mThought: To solve this, I need to perform the mathematical calculation 25 * 4 + 10.\n",
      "Action: Calculator\n",
      "Action Input: 25 * 4 + 10\u001b[0m\u001b[36;1m\u001b[1;3m25 * 4 + 10 = 110.0\u001b[0m\u001b[32;1m\u001b[1;3mQuestion: What is 25 * 4 + 10?\n",
      "Thought: To solve this, I need to perform the mathematical calculation 25 * 4 + 10.\n",
      "Action: Calculator\n",
      "Action Input: 25 * 4 + 10\u001b[0m\u001b[36;1m\u001b[1;3m25 * 4 + 10 = 110.0\u001b[0m\u001b[32;1m\u001b[1;3mThought: I now know the final answer\n",
      "Final Answer: 110\u001b[0m\n",
      "\n",
      "\u001b[1m> Finished chain.\u001b[0m\n",
      "Result: 110\n",
      "\n",
      "=== Testing Weather Tool ===\n",
      "\n",
      "\n",
      "\u001b[1m> Entering new AgentExecutor chain...\u001b[0m\n",
      "\u001b[32;1m\u001b[1;3mThought: To find out the weather in New York, I should use the Weather tool.\n",
      "\n",
      "Action: Weather\n",
      "Action Input: New York\n",
      "\u001b[0m\u001b[33;1m\u001b[1;3mWeather in New York\n",
      ": Random weather condition, Temperature: 30.4°C, Humidity: 49%\u001b[0m\u001b[32;1m\u001b[1;3mQuestion: What's the weather like in New York?\n",
      "Thought: To find out the weather in New York, I should use the Weather tool.\n",
      "\n",
      "Action: Weather\n",
      "Action Input: New York\n",
      "\u001b[0m\u001b[33;1m\u001b[1;3mWeather in New York\n",
      ": Random weather condition, Temperature: 31.1°C, Humidity: 63%\u001b[0m\u001b[32;1m\u001b[1;3mThought: I now have the weather information for New York from the Weather tool.\n",
      "\n",
      "Final Answer: The weather in New York is currently a random weather condition with a temperature of around 31°C (88°F) and humidity around 63%.\u001b[0m\n",
      "\n",
      "\u001b[1m> Finished chain.\u001b[0m\n",
      "Result: The weather in New York is currently a random weather condition with a temperature of around 31°C (88°F) and humidity around 63%.\n",
      "\n",
      "=== Testing Combined Usage ===\n",
      "\n",
      "\n",
      "\u001b[1m> Entering new AgentExecutor chain...\u001b[0m\n",
      "\u001b[32;1m\u001b[1;3mThought: To answer this question, I need to first calculate 15 * 8 using the Calculator tool, and then use the Weather tool to get the weather information for London.\n",
      "\n",
      "Action: Calculator\n",
      "Action Input: 15 * 8\u001b[0m\u001b[36;1m\u001b[1;3m15 * 8 = 120.0\u001b[0m\u001b[32;1m\u001b[1;3mThought: I have calculated 15 * 8 and now need to get the weather information for London.\n",
      "\n",
      "Action: Weather\n",
      "Action Input: London\u001b[0m\u001b[33;1m\u001b[1;3mWeather in London: Light drizzle and overcast, Temperature: 12.0°C, Humidity: 85%\u001b[0m\u001b[32;1m\u001b[1;3mThought: I now have all the information needed to answer the original question.\n",
      "\n",
      "Final Answer: The result of calculating 15 * 8 is 120. The weather in London is light drizzle and overcast, with a temperature of 12.0°C and humidity of 85%.\u001b[0m\n",
      "\n",
      "\u001b[1m> Finished chain.\u001b[0m\n",
      "Result: The result of calculating 15 * 8 is 120. The weather in London is light drizzle and overcast, with a temperature of 12.0°C and humidity of 85%.\n"
     ]
    }
   ],
   "source": [
    "# Test the agent with example prompts\n",
    "print(\"=== Testing Calculator Tool ===\")\n",
    "result1 = agent_executor.invoke({\"input\": \"What is 25 * 4 + 10?\"})\n",
    "print(f\"Result: {result1['output']}\")\n",
    "print()\n",
    "\n",
    "print(\"=== Testing Weather Tool ===\")\n",
    "result2 = agent_executor.invoke({\"input\": \"What's the weather like in New York?\"})\n",
    "print(f\"Result: {result2['output']}\")\n",
    "print()\n",
    "\n",
    "print(\"=== Testing Combined Usage ===\")\n",
    "result3 = agent_executor.invoke({\n",
    "    \"input\": \"Calculate 15 * 8, then tell me the weather in London\"\n",
    "})\n",
    "print(f\"Result: {result3['output']}\")"
   ]
  },
  {
   "cell_type": "markdown",
   "metadata": {},
   "source": [
    "## How to Use This Demo\n",
    "\n",
    "1. **Prerequisites**: \n",
    "   - Make sure your MCP servers are running (use `docker-compose up` in the project root)\n",
    "   - Set up your AWS credentials and environment variables\n",
    "   - Configure LangSmith if you want tracing\n",
    "\n",
    "2. **Run the cells above** to initialize the agent\n",
    "\n",
    "3. **Try your own prompts** in the cell below:\n"
   ]
  },
  {
   "cell_type": "code",
   "execution_count": null,
   "metadata": {},
   "outputs": [],
   "source": [
    "# Try your own prompts here!\n",
    "custom_prompt = \"Calculate the square root of 144 and tell me the weather in Paris\"\n",
    "\n",
    "result = agent_executor.invoke({\"input\": custom_prompt})\n",
    "print(f\"Result: {result['output']}\")"
   ]
  },
  {
   "cell_type": "markdown",
   "metadata": {},
   "source": [
    "## Monitoring and Tracing\n",
    "\n",
    "If you have LangSmith configured, you can view detailed traces of the agent's execution at:\n",
    "https://smith.langchain.com/\n",
    "\n",
    "The traces will show:\n",
    "- LLM calls to Bedrock\n",
    "- Tool invocations to MCP servers\n",
    "- Agent reasoning steps\n",
    "- Performance metrics"
   ]
  }
 ],
 "metadata": {
  "kernelspec": {
   "display_name": "Python 3 (ipykernel)",
   "language": "python",
   "name": "python3"
  },
  "language_info": {
   "codemirror_mode": {
    "name": "ipython",
    "version": 3
   },
   "file_extension": ".py",
   "mimetype": "text/x-python",
   "name": "python",
   "nbconvert_exporter": "python",
   "pygments_lexer": "ipython3",
   "version": "3.13.2"
  }
 },
 "nbformat": 4,
 "nbformat_minor": 4
}
